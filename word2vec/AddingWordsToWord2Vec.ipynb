{
 "cells": [
  {
   "cell_type": "markdown",
   "metadata": {},
   "source": [
    "Load packages"
   ]
  },
  {
   "cell_type": "code",
   "execution_count": 1,
   "metadata": {},
   "outputs": [
    {
     "name": "stderr",
     "output_type": "stream",
     "text": [
      "[nltk_data] Downloading package punkt to /Users/Nikki/nltk_data...\n",
      "[nltk_data]   Package punkt is already up-to-date!\n"
     ]
    },
    {
     "data": {
      "text/plain": [
       "True"
      ]
     },
     "execution_count": 1,
     "metadata": {},
     "output_type": "execute_result"
    }
   ],
   "source": [
    "from gensim.models.word2vec import Word2Vec\n",
    "import gensim.downloader as api\n",
    "import nltk\n",
    "nltk.download('punkt')"
   ]
  },
  {
   "cell_type": "markdown",
   "metadata": {},
   "source": [
    "Download a dataset and train a model"
   ]
  },
  {
   "cell_type": "code",
   "execution_count": 2,
   "metadata": {},
   "outputs": [],
   "source": [
    "# this loads the text8 dataset\n",
    "corpus = api.load('text8')\n",
    "\n",
    "# train a Word2Vec model\n",
    "model_text8 = Word2Vec(corpus,iter=10,size=150, window=10, min_count=1, workers=10)  # train a model from the corpus"
   ]
  },
  {
   "cell_type": "code",
   "execution_count": 3,
   "metadata": {},
   "outputs": [
    {
     "data": {
      "text/plain": [
       "[('goes', 0.618680477142334),\n",
       " ('go', 0.585911750793457),\n",
       " ('trying', 0.5807915925979614),\n",
       " ('getting', 0.5725975632667542),\n",
       " ('coming', 0.559325098991394),\n",
       " ('walked', 0.5408093929290771),\n",
       " ('sneak', 0.540553629398346),\n",
       " ('went', 0.5402024984359741),\n",
       " ('rushed', 0.5388314723968506),\n",
       " ('gone', 0.5270013213157654)]"
      ]
     },
     "execution_count": 3,
     "metadata": {},
     "output_type": "execute_result"
    }
   ],
   "source": [
    "# similarity\n",
    "model_text8.wv.most_similar(\"going\")"
   ]
  },
  {
   "cell_type": "code",
   "execution_count": 4,
   "metadata": {},
   "outputs": [
    {
     "data": {
      "text/plain": [
       "(19, 140)"
      ]
     },
     "execution_count": 4,
     "metadata": {},
     "output_type": "execute_result"
    }
   ],
   "source": [
    "# train existing model on new terms\n",
    "model_text8.build_vocab([['idu', 'and', 'risky', 'sex', 'ask', 'your', 'partners', 'about', 'health', 'issues', 'you', 'are', 'worth', 'it']], update = True)\n",
    "\n",
    "model_text8.train([['idu', 'and', 'risky', 'sex', 'ask', 'your', 'partners', 'about', 'health', 'issues', 'you', 'are', 'worth', 'it']], total_examples=model_text8.corpus_count, epochs=model_text8.epochs)"
   ]
  },
  {
   "cell_type": "code",
   "execution_count": 5,
   "metadata": {},
   "outputs": [
    {
     "data": {
      "text/plain": [
       "[('risks', 0.766310453414917),\n",
       " ('doses', 0.6258827447891235),\n",
       " ('dose', 0.6088266968727112),\n",
       " ('potential', 0.6074224710464478),\n",
       " ('preventing', 0.6061437129974365),\n",
       " ('incidence', 0.5787478089332581),\n",
       " ('toxicity', 0.5773507356643677),\n",
       " ('disadvantage', 0.5772770047187805),\n",
       " ('likelihood', 0.5716636180877686),\n",
       " ('benefits', 0.5698034763336182)]"
      ]
     },
     "execution_count": 5,
     "metadata": {},
     "output_type": "execute_result"
    }
   ],
   "source": [
    "# similarity\n",
    "model_text8.wv.most_similar('risk')"
   ]
  },
  {
   "cell_type": "markdown",
   "metadata": {},
   "source": [
    "## Text pre-processing\n",
    "\n",
    "https://medium.com/@datamonsters/text-preprocessing-in-python-steps-tools-and-examples-bf025f872908\n",
    "\n",
    "https://gist.github.com/nealrs/96342d8231b75cf4bb82\n",
    "\n",
    "https://datascience.stackexchange.com/questions/49431/how-to-train-an-existing-word2vec-gensim-model-on-new-words\n",
    "\n",
    "https://github.com/RaRe-Technologies/gensim/blob/develop/docs/notebooks/online_w2v_tutorial.ipynb\n",
    "\n",
    "https://radimrehurek.com/gensim/index.html\n",
    "\n",
    "https://github.com/RaRe-Technologies/gensim-data"
   ]
  },
  {
   "cell_type": "code",
   "execution_count": 6,
   "metadata": {},
   "outputs": [],
   "source": [
    "# %load contractions.py \n",
    "#!/usr/bin/env python\n",
    "\n",
    "# In[ ]:\n",
    "\n",
    "\n",
    "import re\n",
    "cList = {\n",
    "  \"ain't\": \"am not\",\n",
    "  \"aren't\": \"are not\",\n",
    "  \"can't\": \"cannot\",\n",
    "  \"can't've\": \"cannot have\",\n",
    "  \"'cause\": \"because\",\n",
    "  \"could've\": \"could have\",\n",
    "  \"couldn't\": \"could not\",\n",
    "  \"couldn't've\": \"could not have\",\n",
    "  \"didn't\": \"did not\",\n",
    "  \"doesn't\": \"does not\",\n",
    "  \"don't\": \"do not\",\n",
    "  \"hadn't\": \"had not\",\n",
    "  \"hadn't've\": \"had not have\",\n",
    "  \"hasn't\": \"has not\",\n",
    "  \"haven't\": \"have not\",\n",
    "  \"he'd\": \"he would\",\n",
    "  \"he'd've\": \"he would have\",\n",
    "  \"he'll\": \"he will\",\n",
    "  \"he'll've\": \"he will have\",\n",
    "  \"he's\": \"he is\",\n",
    "  \"how'd\": \"how did\",\n",
    "  \"how'd'y\": \"how do you\",\n",
    "  \"how'll\": \"how will\",\n",
    "  \"how's\": \"how is\",\n",
    "  \"i'd\": \"i would\",\n",
    "  \"i'd've\": \"i would have\",\n",
    "  \"i'll\": \"i will\",\n",
    "  \"i'll've\": \"i will have\",\n",
    "  \"i'm\": \"i am\",\n",
    "  \"i've\": \"i have\",\n",
    "  \"isn't\": \"is not\",\n",
    "  \"it'd\": \"it had\",\n",
    "  \"it'd've\": \"it would have\",\n",
    "  \"it'll\": \"it will\",\n",
    "  \"it'll've\": \"it will have\",\n",
    "  \"it's\": \"it is\",\n",
    "  \"let's\": \"let us\",\n",
    "  \"ma'am\": \"madam\",\n",
    "  \"mayn't\": \"may not\",\n",
    "  \"might've\": \"might have\",\n",
    "  \"mightn't\": \"might not\",\n",
    "  \"mightn't've\": \"might not have\",\n",
    "  \"must've\": \"must have\",\n",
    "  \"mustn't\": \"must not\",\n",
    "  \"mustn't've\": \"must not have\",\n",
    "  \"needn't\": \"need not\",\n",
    "  \"needn't've\": \"need not have\",\n",
    "  \"o'clock\": \"of the clock\",\n",
    "  \"oughtn't\": \"ought not\",\n",
    "  \"oughtn't've\": \"ought not have\",\n",
    "  \"shan't\": \"shall not\",\n",
    "  \"sha'n't\": \"shall not\",\n",
    "  \"shan't've\": \"shall not have\",\n",
    "  \"she'd\": \"she would\",\n",
    "  \"she'd've\": \"she would have\",\n",
    "  \"she'll\": \"she will\",\n",
    "  \"she'll've\": \"she will have\",\n",
    "  \"she's\": \"she is\",\n",
    "  \"should've\": \"should have\",\n",
    "  \"shouldn't\": \"should not\",\n",
    "  \"shouldn't've\": \"should not have\",\n",
    "  \"so've\": \"so have\",\n",
    "  \"so's\": \"so is\",\n",
    "  \"that'd\": \"that would\",\n",
    "  \"that'd've\": \"that would have\",\n",
    "  \"that's\": \"that is\",\n",
    "  \"there'd\": \"there had\",\n",
    "  \"there'd've\": \"there would have\",\n",
    "  \"there's\": \"there is\",\n",
    "  \"they'd\": \"they would\",\n",
    "  \"they'd've\": \"they would have\",\n",
    "  \"they'll\": \"they will\",\n",
    "  \"they'll've\": \"they will have\",\n",
    "  \"they're\": \"they are\",\n",
    "  \"they've\": \"they have\",\n",
    "  \"to've\": \"to have\",\n",
    "  \"wasn't\": \"was not\",\n",
    "  \"we'd\": \"we had\",\n",
    "  \"we'd've\": \"we would have\",\n",
    "  \"we'll\": \"we will\",\n",
    "  \"we'll've\": \"we will have\",\n",
    "  \"we're\": \"we are\",\n",
    "  \"we've\": \"we have\",\n",
    "  \"weren't\": \"were not\",\n",
    "  \"what'll\": \"what will\",\n",
    "  \"what'll've\": \"what will have\",\n",
    "  \"what're\": \"what are\",\n",
    "  \"what's\": \"what is\",\n",
    "  \"what've\": \"what have\",\n",
    "  \"when's\": \"when is\",\n",
    "  \"when've\": \"when have\",\n",
    "  \"where'd\": \"where did\",\n",
    "  \"where's\": \"where is\",\n",
    "  \"where've\": \"where have\",\n",
    "  \"who'll\": \"who will\",\n",
    "  \"who'll've\": \"who will have\",\n",
    "  \"who's\": \"who is\",\n",
    "  \"who've\": \"who have\",\n",
    "  \"why's\": \"why is\",\n",
    "  \"why've\": \"why have\",\n",
    "  \"will've\": \"will have\",\n",
    "  \"won't\": \"will not\",\n",
    "  \"won't've\": \"will not have\",\n",
    "  \"would've\": \"would have\",\n",
    "  \"wouldn't\": \"would not\",\n",
    "  \"wouldn't've\": \"would not have\",\n",
    "  \"y'all\": \"you all\",\n",
    "  \"y'alls\": \"you alls\",\n",
    "  \"y'all'd\": \"you all would\",\n",
    "  \"y'all'd've\": \"you all would have\",\n",
    "  \"y'all're\": \"you all are\",\n",
    "  \"y'all've\": \"you all have\",\n",
    "  \"you'd\": \"you had\",\n",
    "  \"you'd've\": \"you would have\",\n",
    "  \"you'll\": \"you you will\",\n",
    "  \"you'll've\": \"you you will have\",\n",
    "  \"you're\": \"you are\",\n",
    "  \"you've\": \"you have\"\n",
    "}\n",
    "\n",
    "c_re = re.compile('(%s)' % '|'.join(cList.keys()))\n",
    "\n",
    "def expandContractions(text, c_re=c_re):\n",
    "    def replace(match):\n",
    "        return cList[match.group(0)]\n",
    "    return c_re.sub(replace, text)\n",
    "\n"
   ]
  },
  {
   "cell_type": "code",
   "execution_count": 7,
   "metadata": {},
   "outputs": [
    {
     "ename": "NameError",
     "evalue": "name 'pd' is not defined",
     "output_type": "error",
     "traceback": [
      "\u001b[0;31m---------------------------------------------------------------------------\u001b[0m",
      "\u001b[0;31mNameError\u001b[0m                                 Traceback (most recent call last)",
      "\u001b[0;32m<ipython-input-7-9283c68132a9>\u001b[0m in \u001b[0;36m<module>\u001b[0;34m\u001b[0m\n\u001b[0;32m----> 1\u001b[0;31m txtLibrary = pd.read_excel('/Users/Nikki/Dropbox/UNC/Causal NLP/Reback_TxtLibrary/Reback_Project Tech Support Text Message Library_NF.xlsx',\n\u001b[0m\u001b[1;32m      2\u001b[0m              sheet_name = 1, skiprows = 23, names = ['msgID', 'txt'], index_col = 'msgID')\n\u001b[1;32m      3\u001b[0m \u001b[0;34m\u001b[0m\u001b[0m\n\u001b[1;32m      4\u001b[0m \u001b[0;31m# Housekeeping\u001b[0m\u001b[0;34m\u001b[0m\u001b[0;34m\u001b[0m\u001b[0;34m\u001b[0m\u001b[0m\n\u001b[1;32m      5\u001b[0m \u001b[0mtxtLibrary\u001b[0m \u001b[0;34m=\u001b[0m \u001b[0mtxtLibrary\u001b[0m\u001b[0;34m.\u001b[0m\u001b[0mdropna\u001b[0m\u001b[0;34m(\u001b[0m\u001b[0maxis\u001b[0m \u001b[0;34m=\u001b[0m \u001b[0;36m0\u001b[0m\u001b[0;34m)\u001b[0m \u001b[0;31m# Remove rows that are empty\u001b[0m\u001b[0;34m\u001b[0m\u001b[0;34m\u001b[0m\u001b[0m\n",
      "\u001b[0;31mNameError\u001b[0m: name 'pd' is not defined"
     ]
    }
   ],
   "source": [
    "txtLibrary = pd.read_excel('/Users/Nikki/Dropbox/UNC/Causal NLP/Reback_TxtLibrary/Reback_Project Tech Support Text Message Library_NF.xlsx',\n",
    "             sheet_name = 1, skiprows = 23, names = ['msgID', 'txt'], index_col = 'msgID')\n",
    "\n",
    "# Housekeeping\n",
    "txtLibrary = txtLibrary.dropna(axis = 0) # Remove rows that are empty\n",
    "# Remove the texts about follow up appointments (pre/post texts)\n",
    "txtLibrary = txtLibrary[slice('A1a001', 'H3a120')]"
   ]
  },
  {
   "cell_type": "code",
   "execution_count": null,
   "metadata": {},
   "outputs": [],
   "source": [
    "# Make all the words lower case\n",
    "txtLibrary.txt = txtLibrary.txt.str.lower()\n",
    "\n",
    "# Change phone numbers \n",
    "phoneNumPattern = '\\d{3}-\\d{3}-\\d{4}'\n",
    "phoneNumReplacement = 'xxx-xxx-xxxx'\n",
    "txtLibrary.txt = txtLibrary.txt.str.replace(phoneNumPattern, phoneNumReplacement)\n",
    "\n",
    "# Remove numbers\n",
    "txtLibrary.txt = txtLibrary.txt.str.replace(r'\\d+', '')\n",
    "\n",
    "# Expand contractions\n",
    "txtLibrary.txt = txtLibrary.txt.apply(expandContractions)\n",
    "\n",
    "# Remove punctuation\n",
    "txtLibrary.txt = txtLibrary.txt.str.replace(r'\\.|\\?|\\!|,', '')\n",
    "\n",
    "# Remove white space\n",
    "txtLibrary.txt = txtLibrary.txt.str.strip()\n",
    "\n",
    "# Tokenization\n",
    "txtLibraryList = txtLibrary.txt.tolist()\n",
    "txtLibraryTokenList = [nltk.tokenize.word_tokenize(w) for w in txtLibraryList]\n",
    "\n",
    "\n"
   ]
  },
  {
   "cell_type": "code",
   "execution_count": 134,
   "metadata": {},
   "outputs": [
    {
     "data": {
      "text/plain": [
       "(36275, 53260)"
      ]
     },
     "execution_count": 134,
     "metadata": {},
     "output_type": "execute_result"
    }
   ],
   "source": [
    "# train existing model on new terms\n",
    "model_text8.build_vocab(txtLibraryTokenList, update = True)\n",
    "\n",
    "model_text8.train(txtLibraryTokenList, total_examples=model_text8.corpus_count, epochs=model_text8.epochs)"
   ]
  },
  {
   "cell_type": "code",
   "execution_count": 139,
   "metadata": {},
   "outputs": [
    {
     "data": {
      "text/plain": [
       "[('-x', 0.9757021069526672),\n",
       " ('self-respect', 0.8640040159225464),\n",
       " (\"'\", 0.863370418548584),\n",
       " ('trippin', 0.848071813583374),\n",
       " ('drippin', 0.8326913118362427),\n",
       " ('him/her', 0.8227715492248535),\n",
       " ('yamaska', 0.8217705488204956),\n",
       " ('jonquiere', 0.8217207193374634),\n",
       " ('guilt-free', 0.8198658227920532),\n",
       " ('ortous', 0.819807231426239)]"
      ]
     },
     "execution_count": 139,
     "metadata": {},
     "output_type": "execute_result"
    }
   ],
   "source": [
    "model_text8.wv.most_similar(\"hiv+\")"
   ]
  },
  {
   "cell_type": "code",
   "execution_count": 14,
   "metadata": {},
   "outputs": [
    {
     "data": {
      "text/plain": [
       "array([-0.02022123,  2.5335677 , -0.51990473,  1.2280376 , -2.477656  ,\n",
       "        0.69477755,  3.3151803 , -1.0722471 , -2.443802  , -0.99342364,\n",
       "       -0.2840865 , -1.0125341 ,  1.9859868 , -1.3183051 , -1.5466813 ,\n",
       "       -0.7549755 ,  0.20375316,  3.2347445 , -3.5292566 , -1.3194631 ,\n",
       "       -1.482044  ,  0.9774404 ,  1.1173714 , -0.62254107,  1.3736968 ,\n",
       "        0.4506318 ,  1.8658849 ,  0.32852477,  0.1595319 ,  2.0936487 ,\n",
       "       -1.4418173 ,  3.8051102 ,  1.6538512 , -2.4511333 , -1.9274307 ,\n",
       "       -1.7070876 ,  1.0574679 ,  0.4892034 ,  0.28947508, -3.7420664 ,\n",
       "        0.01505795,  3.506489  ,  5.942116  , -0.47867575, -0.28651127,\n",
       "        5.2506294 ,  0.01638756,  2.5937228 , -0.89075124,  2.259949  ,\n",
       "       -1.2435331 , -0.1491865 , -0.18930317, -2.6826532 ,  3.787044  ,\n",
       "        0.84073913, -0.07689241,  0.37866014,  1.5260705 ,  1.0438783 ,\n",
       "        1.8649135 ,  0.5931036 ,  1.3464396 ,  2.3194134 , -0.05427621,\n",
       "        0.7278222 ,  1.3020517 , -1.5987487 , -1.3436403 ,  0.4477443 ,\n",
       "       -0.58613664,  1.1799153 , -5.12789   ,  0.5077334 , -0.90123653,\n",
       "        0.54653263,  1.384334  , -1.128114  , -1.5016358 ,  2.1256924 ,\n",
       "        1.2430573 , -2.1194198 , -1.9924874 ,  0.608711  ,  0.7413665 ,\n",
       "       -0.78425884, -1.5249411 , -3.8680725 , -0.85888135, -0.0449831 ,\n",
       "        1.2251788 ,  2.4960904 , -0.51358366, -0.9381666 , -2.9273086 ,\n",
       "       -1.7733026 , -0.25863296,  1.2715278 , -0.91800874, -3.2514815 ,\n",
       "       -2.780201  ,  1.4053799 , -0.25000682,  0.3043454 ,  2.0917368 ,\n",
       "        3.065746  ,  0.14057133,  0.1630432 , -1.5525501 ,  0.2677006 ,\n",
       "        0.32639349, -0.3528289 ,  2.2695315 , -0.0565978 , -2.507363  ,\n",
       "       -0.8963544 ,  3.823875  ,  0.3895609 ,  0.73601973, -2.242598  ,\n",
       "        0.9455097 , -0.7334974 ,  0.3116137 , -0.75614756,  1.8724105 ,\n",
       "        0.1922811 ,  0.3006481 ,  0.03607558, -0.7946001 ,  3.073064  ,\n",
       "       -2.3261514 ,  1.2468109 , -0.13046442,  0.45179966,  1.2339784 ,\n",
       "       -2.4008784 ,  0.1816303 , -1.0361089 ,  0.50379276, -2.8863983 ,\n",
       "       -2.4372635 , -1.6567788 ,  2.458185  , -1.3783357 , -4.320537  ,\n",
       "        0.13204297,  1.2230213 , -2.0350766 ,  3.3121696 ,  0.7601565 ],\n",
       "      dtype=float32)"
      ]
     },
     "execution_count": 14,
     "metadata": {},
     "output_type": "execute_result"
    }
   ],
   "source": [
    "model_text8.wv.__getitem__('hiv')"
   ]
  },
  {
   "cell_type": "code",
   "execution_count": null,
   "metadata": {},
   "outputs": [],
   "source": []
  },
  {
   "cell_type": "code",
   "execution_count": null,
   "metadata": {},
   "outputs": [],
   "source": []
  }
 ],
 "metadata": {
  "kernelspec": {
   "display_name": "Python 3",
   "language": "python",
   "name": "python3"
  },
  "language_info": {
   "codemirror_mode": {
    "name": "ipython",
    "version": 3
   },
   "file_extension": ".py",
   "mimetype": "text/x-python",
   "name": "python",
   "nbconvert_exporter": "python",
   "pygments_lexer": "ipython3",
   "version": "3.7.4"
  }
 },
 "nbformat": 4,
 "nbformat_minor": 2
}
